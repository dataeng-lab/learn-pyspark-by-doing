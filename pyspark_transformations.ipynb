{
  "nbformat": 4,
  "nbformat_minor": 0,
  "metadata": {
    "colab": {
      "provenance": [],
      "authorship_tag": "ABX9TyN7W+yn1uvzNPYAi/94gunr",
      "include_colab_link": true
    },
    "kernelspec": {
      "name": "python3",
      "display_name": "Python 3"
    },
    "language_info": {
      "name": "python"
    }
  },
  "cells": [
    {
      "cell_type": "markdown",
      "metadata": {
        "id": "view-in-github",
        "colab_type": "text"
      },
      "source": [
        "<a href=\"https://colab.research.google.com/github/dataeng-lab/learn-pyspark-by-doing/blob/main/pyspark_transformations.ipynb\" target=\"_parent\"><img src=\"https://colab.research.google.com/assets/colab-badge.svg\" alt=\"Open In Colab\"/></a>"
      ]
    },
    {
      "cell_type": "code",
      "execution_count": 1,
      "metadata": {
        "colab": {
          "base_uri": "https://localhost:8080/"
        },
        "id": "EII7CSgUhFDN",
        "outputId": "e0d7d5f6-8fd7-445b-b604-bf15c8a99381"
      },
      "outputs": [
        {
          "output_type": "stream",
          "name": "stdout",
          "text": [
            "Original DataFrame:\n",
            "+-------+---+\n",
            "|   name| id|\n",
            "+-------+---+\n",
            "|  Alice|  1|\n",
            "|    Bob|  2|\n",
            "|Charlie|  3|\n",
            "+-------+---+\n",
            "\n",
            "DataFrame after selecting 'name' column:\n",
            "+-------+\n",
            "|   name|\n",
            "+-------+\n",
            "|  Alice|\n",
            "|    Bob|\n",
            "|Charlie|\n",
            "+-------+\n",
            "\n",
            "DataFrame after filtering for id > 1:\n",
            "+-------+---+\n",
            "|   name| id|\n",
            "+-------+---+\n",
            "|    Bob|  2|\n",
            "|Charlie|  3|\n",
            "+-------+---+\n",
            "\n",
            "Number of rows in the original DataFrame: 3\n",
            "Collected data:\n",
            "Row(name='Alice', id=1)\n",
            "Row(name='Bob', id=2)\n",
            "Row(name='Charlie', id=3)\n"
          ]
        }
      ],
      "source": [
        "from pyspark.sql import SparkSession\n",
        "\n",
        "# Create a SparkSession\n",
        "spark = SparkSession.builder.appName(\"PySparkExample\").getOrCreate()\n",
        "\n",
        "# Create a sample DataFrame\n",
        "data = [(\"Alice\", 1), (\"Bob\", 2), (\"Charlie\", 3)]\n",
        "columns = [\"name\", \"id\"]\n",
        "df = spark.createDataFrame(data, columns)\n",
        "\n",
        "# Show the original DataFrame\n",
        "print(\"Original DataFrame:\")\n",
        "df.show()\n",
        "\n",
        "# Transformation: Select a column\n",
        "selected_df = df.select(\"name\")\n",
        "print(\"DataFrame after selecting 'name' column:\")\n",
        "selected_df.show()\n",
        "\n",
        "# Transformation: Filter rows\n",
        "filtered_df = df.filter(df[\"id\"] > 1)\n",
        "print(\"DataFrame after filtering for id > 1:\")\n",
        "filtered_df.show()\n",
        "\n",
        "# Action: Count the number of rows\n",
        "count = df.count()\n",
        "print(f\"Number of rows in the original DataFrame: {count}\")\n",
        "\n",
        "# Action: Collect all data into a list\n",
        "collected_data = df.collect()\n",
        "print(\"Collected data:\")\n",
        "for row in collected_data:\n",
        "    print(row)\n",
        "\n",
        "# Stop the SparkSession\n",
        "spark.stop()"
      ]
    }
  ]
}